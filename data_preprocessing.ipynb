{
  "nbformat": 4,
  "nbformat_minor": 0,
  "metadata": {
    "colab": {
      "provenance": []
    },
    "kernelspec": {
      "name": "python3",
      "display_name": "Python 3"
    },
    "language_info": {
      "name": "python"
    },
    "widgets": {
      "application/vnd.jupyter.widget-state+json": {
        "e7a65a1bdf784896bcb7227bb0a78879": {
          "model_module": "@jupyter-widgets/controls",
          "model_name": "HBoxModel",
          "model_module_version": "1.5.0",
          "state": {
            "_dom_classes": [],
            "_model_module": "@jupyter-widgets/controls",
            "_model_module_version": "1.5.0",
            "_model_name": "HBoxModel",
            "_view_count": null,
            "_view_module": "@jupyter-widgets/controls",
            "_view_module_version": "1.5.0",
            "_view_name": "HBoxView",
            "box_style": "",
            "children": [
              "IPY_MODEL_e47c73f28c744600ba873a583fad1956",
              "IPY_MODEL_16f99fd2b99c4d4e8dac00ee966041ad",
              "IPY_MODEL_2c699f8ba9524aba87e8a3b476d788d4"
            ],
            "layout": "IPY_MODEL_ccde7f99abe64a8abc1d272c879bf672"
          }
        },
        "e47c73f28c744600ba873a583fad1956": {
          "model_module": "@jupyter-widgets/controls",
          "model_name": "HTMLModel",
          "model_module_version": "1.5.0",
          "state": {
            "_dom_classes": [],
            "_model_module": "@jupyter-widgets/controls",
            "_model_module_version": "1.5.0",
            "_model_name": "HTMLModel",
            "_view_count": null,
            "_view_module": "@jupyter-widgets/controls",
            "_view_module_version": "1.5.0",
            "_view_name": "HTMLView",
            "description": "",
            "description_tooltip": null,
            "layout": "IPY_MODEL_7d44d38137e14c13bbe57304298c56b3",
            "placeholder": "​",
            "style": "IPY_MODEL_4c404d5b0c7747c58ed502df05008a0c",
            "value": "tokenizer_config.json: 100%"
          }
        },
        "16f99fd2b99c4d4e8dac00ee966041ad": {
          "model_module": "@jupyter-widgets/controls",
          "model_name": "FloatProgressModel",
          "model_module_version": "1.5.0",
          "state": {
            "_dom_classes": [],
            "_model_module": "@jupyter-widgets/controls",
            "_model_module_version": "1.5.0",
            "_model_name": "FloatProgressModel",
            "_view_count": null,
            "_view_module": "@jupyter-widgets/controls",
            "_view_module_version": "1.5.0",
            "_view_name": "ProgressView",
            "bar_style": "success",
            "description": "",
            "description_tooltip": null,
            "layout": "IPY_MODEL_487395b420e54017938d8d81639594cb",
            "max": 49,
            "min": 0,
            "orientation": "horizontal",
            "style": "IPY_MODEL_ec1bfacbf8784304bdbdf9c8cc56d838",
            "value": 49
          }
        },
        "2c699f8ba9524aba87e8a3b476d788d4": {
          "model_module": "@jupyter-widgets/controls",
          "model_name": "HTMLModel",
          "model_module_version": "1.5.0",
          "state": {
            "_dom_classes": [],
            "_model_module": "@jupyter-widgets/controls",
            "_model_module_version": "1.5.0",
            "_model_name": "HTMLModel",
            "_view_count": null,
            "_view_module": "@jupyter-widgets/controls",
            "_view_module_version": "1.5.0",
            "_view_name": "HTMLView",
            "description": "",
            "description_tooltip": null,
            "layout": "IPY_MODEL_be519611106a4bfda3129ace8a7ba1ac",
            "placeholder": "​",
            "style": "IPY_MODEL_8893f863c6b44751a42426215184d068",
            "value": " 49.0/49.0 [00:00&lt;00:00, 4.05kB/s]"
          }
        },
        "ccde7f99abe64a8abc1d272c879bf672": {
          "model_module": "@jupyter-widgets/base",
          "model_name": "LayoutModel",
          "model_module_version": "1.2.0",
          "state": {
            "_model_module": "@jupyter-widgets/base",
            "_model_module_version": "1.2.0",
            "_model_name": "LayoutModel",
            "_view_count": null,
            "_view_module": "@jupyter-widgets/base",
            "_view_module_version": "1.2.0",
            "_view_name": "LayoutView",
            "align_content": null,
            "align_items": null,
            "align_self": null,
            "border": null,
            "bottom": null,
            "display": null,
            "flex": null,
            "flex_flow": null,
            "grid_area": null,
            "grid_auto_columns": null,
            "grid_auto_flow": null,
            "grid_auto_rows": null,
            "grid_column": null,
            "grid_gap": null,
            "grid_row": null,
            "grid_template_areas": null,
            "grid_template_columns": null,
            "grid_template_rows": null,
            "height": null,
            "justify_content": null,
            "justify_items": null,
            "left": null,
            "margin": null,
            "max_height": null,
            "max_width": null,
            "min_height": null,
            "min_width": null,
            "object_fit": null,
            "object_position": null,
            "order": null,
            "overflow": null,
            "overflow_x": null,
            "overflow_y": null,
            "padding": null,
            "right": null,
            "top": null,
            "visibility": null,
            "width": null
          }
        },
        "7d44d38137e14c13bbe57304298c56b3": {
          "model_module": "@jupyter-widgets/base",
          "model_name": "LayoutModel",
          "model_module_version": "1.2.0",
          "state": {
            "_model_module": "@jupyter-widgets/base",
            "_model_module_version": "1.2.0",
            "_model_name": "LayoutModel",
            "_view_count": null,
            "_view_module": "@jupyter-widgets/base",
            "_view_module_version": "1.2.0",
            "_view_name": "LayoutView",
            "align_content": null,
            "align_items": null,
            "align_self": null,
            "border": null,
            "bottom": null,
            "display": null,
            "flex": null,
            "flex_flow": null,
            "grid_area": null,
            "grid_auto_columns": null,
            "grid_auto_flow": null,
            "grid_auto_rows": null,
            "grid_column": null,
            "grid_gap": null,
            "grid_row": null,
            "grid_template_areas": null,
            "grid_template_columns": null,
            "grid_template_rows": null,
            "height": null,
            "justify_content": null,
            "justify_items": null,
            "left": null,
            "margin": null,
            "max_height": null,
            "max_width": null,
            "min_height": null,
            "min_width": null,
            "object_fit": null,
            "object_position": null,
            "order": null,
            "overflow": null,
            "overflow_x": null,
            "overflow_y": null,
            "padding": null,
            "right": null,
            "top": null,
            "visibility": null,
            "width": null
          }
        },
        "4c404d5b0c7747c58ed502df05008a0c": {
          "model_module": "@jupyter-widgets/controls",
          "model_name": "DescriptionStyleModel",
          "model_module_version": "1.5.0",
          "state": {
            "_model_module": "@jupyter-widgets/controls",
            "_model_module_version": "1.5.0",
            "_model_name": "DescriptionStyleModel",
            "_view_count": null,
            "_view_module": "@jupyter-widgets/base",
            "_view_module_version": "1.2.0",
            "_view_name": "StyleView",
            "description_width": ""
          }
        },
        "487395b420e54017938d8d81639594cb": {
          "model_module": "@jupyter-widgets/base",
          "model_name": "LayoutModel",
          "model_module_version": "1.2.0",
          "state": {
            "_model_module": "@jupyter-widgets/base",
            "_model_module_version": "1.2.0",
            "_model_name": "LayoutModel",
            "_view_count": null,
            "_view_module": "@jupyter-widgets/base",
            "_view_module_version": "1.2.0",
            "_view_name": "LayoutView",
            "align_content": null,
            "align_items": null,
            "align_self": null,
            "border": null,
            "bottom": null,
            "display": null,
            "flex": null,
            "flex_flow": null,
            "grid_area": null,
            "grid_auto_columns": null,
            "grid_auto_flow": null,
            "grid_auto_rows": null,
            "grid_column": null,
            "grid_gap": null,
            "grid_row": null,
            "grid_template_areas": null,
            "grid_template_columns": null,
            "grid_template_rows": null,
            "height": null,
            "justify_content": null,
            "justify_items": null,
            "left": null,
            "margin": null,
            "max_height": null,
            "max_width": null,
            "min_height": null,
            "min_width": null,
            "object_fit": null,
            "object_position": null,
            "order": null,
            "overflow": null,
            "overflow_x": null,
            "overflow_y": null,
            "padding": null,
            "right": null,
            "top": null,
            "visibility": null,
            "width": null
          }
        },
        "ec1bfacbf8784304bdbdf9c8cc56d838": {
          "model_module": "@jupyter-widgets/controls",
          "model_name": "ProgressStyleModel",
          "model_module_version": "1.5.0",
          "state": {
            "_model_module": "@jupyter-widgets/controls",
            "_model_module_version": "1.5.0",
            "_model_name": "ProgressStyleModel",
            "_view_count": null,
            "_view_module": "@jupyter-widgets/base",
            "_view_module_version": "1.2.0",
            "_view_name": "StyleView",
            "bar_color": null,
            "description_width": ""
          }
        },
        "be519611106a4bfda3129ace8a7ba1ac": {
          "model_module": "@jupyter-widgets/base",
          "model_name": "LayoutModel",
          "model_module_version": "1.2.0",
          "state": {
            "_model_module": "@jupyter-widgets/base",
            "_model_module_version": "1.2.0",
            "_model_name": "LayoutModel",
            "_view_count": null,
            "_view_module": "@jupyter-widgets/base",
            "_view_module_version": "1.2.0",
            "_view_name": "LayoutView",
            "align_content": null,
            "align_items": null,
            "align_self": null,
            "border": null,
            "bottom": null,
            "display": null,
            "flex": null,
            "flex_flow": null,
            "grid_area": null,
            "grid_auto_columns": null,
            "grid_auto_flow": null,
            "grid_auto_rows": null,
            "grid_column": null,
            "grid_gap": null,
            "grid_row": null,
            "grid_template_areas": null,
            "grid_template_columns": null,
            "grid_template_rows": null,
            "height": null,
            "justify_content": null,
            "justify_items": null,
            "left": null,
            "margin": null,
            "max_height": null,
            "max_width": null,
            "min_height": null,
            "min_width": null,
            "object_fit": null,
            "object_position": null,
            "order": null,
            "overflow": null,
            "overflow_x": null,
            "overflow_y": null,
            "padding": null,
            "right": null,
            "top": null,
            "visibility": null,
            "width": null
          }
        },
        "8893f863c6b44751a42426215184d068": {
          "model_module": "@jupyter-widgets/controls",
          "model_name": "DescriptionStyleModel",
          "model_module_version": "1.5.0",
          "state": {
            "_model_module": "@jupyter-widgets/controls",
            "_model_module_version": "1.5.0",
            "_model_name": "DescriptionStyleModel",
            "_view_count": null,
            "_view_module": "@jupyter-widgets/base",
            "_view_module_version": "1.2.0",
            "_view_name": "StyleView",
            "description_width": ""
          }
        },
        "cc17c22d2ec84f7e89d72586d6ddf436": {
          "model_module": "@jupyter-widgets/controls",
          "model_name": "HBoxModel",
          "model_module_version": "1.5.0",
          "state": {
            "_dom_classes": [],
            "_model_module": "@jupyter-widgets/controls",
            "_model_module_version": "1.5.0",
            "_model_name": "HBoxModel",
            "_view_count": null,
            "_view_module": "@jupyter-widgets/controls",
            "_view_module_version": "1.5.0",
            "_view_name": "HBoxView",
            "box_style": "",
            "children": [
              "IPY_MODEL_1332152cf0b64b78a4944add5efc8926",
              "IPY_MODEL_498529356ca249ac96206a4df37d0afa",
              "IPY_MODEL_4734f9dba6ac423b88a0bf3f4b02f19e"
            ],
            "layout": "IPY_MODEL_31921724de3840fe8b6678111e95cb4a"
          }
        },
        "1332152cf0b64b78a4944add5efc8926": {
          "model_module": "@jupyter-widgets/controls",
          "model_name": "HTMLModel",
          "model_module_version": "1.5.0",
          "state": {
            "_dom_classes": [],
            "_model_module": "@jupyter-widgets/controls",
            "_model_module_version": "1.5.0",
            "_model_name": "HTMLModel",
            "_view_count": null,
            "_view_module": "@jupyter-widgets/controls",
            "_view_module_version": "1.5.0",
            "_view_name": "HTMLView",
            "description": "",
            "description_tooltip": null,
            "layout": "IPY_MODEL_e4b2dab0d2be4b2196d5f6176df3c0d4",
            "placeholder": "​",
            "style": "IPY_MODEL_dd70fa8b1b4f4b76b729655a642cdfd3",
            "value": "config.json: 100%"
          }
        },
        "498529356ca249ac96206a4df37d0afa": {
          "model_module": "@jupyter-widgets/controls",
          "model_name": "FloatProgressModel",
          "model_module_version": "1.5.0",
          "state": {
            "_dom_classes": [],
            "_model_module": "@jupyter-widgets/controls",
            "_model_module_version": "1.5.0",
            "_model_name": "FloatProgressModel",
            "_view_count": null,
            "_view_module": "@jupyter-widgets/controls",
            "_view_module_version": "1.5.0",
            "_view_name": "ProgressView",
            "bar_style": "success",
            "description": "",
            "description_tooltip": null,
            "layout": "IPY_MODEL_e89ec4761b9a42de9903323325ae9995",
            "max": 625,
            "min": 0,
            "orientation": "horizontal",
            "style": "IPY_MODEL_b3dbd0e1eeab4ebc9b9946c94b133366",
            "value": 625
          }
        },
        "4734f9dba6ac423b88a0bf3f4b02f19e": {
          "model_module": "@jupyter-widgets/controls",
          "model_name": "HTMLModel",
          "model_module_version": "1.5.0",
          "state": {
            "_dom_classes": [],
            "_model_module": "@jupyter-widgets/controls",
            "_model_module_version": "1.5.0",
            "_model_name": "HTMLModel",
            "_view_count": null,
            "_view_module": "@jupyter-widgets/controls",
            "_view_module_version": "1.5.0",
            "_view_name": "HTMLView",
            "description": "",
            "description_tooltip": null,
            "layout": "IPY_MODEL_57a3f51541094699ab332347ec96d431",
            "placeholder": "​",
            "style": "IPY_MODEL_33554e1b17a04c96a37db1591f784ae7",
            "value": " 625/625 [00:00&lt;00:00, 51.3kB/s]"
          }
        },
        "31921724de3840fe8b6678111e95cb4a": {
          "model_module": "@jupyter-widgets/base",
          "model_name": "LayoutModel",
          "model_module_version": "1.2.0",
          "state": {
            "_model_module": "@jupyter-widgets/base",
            "_model_module_version": "1.2.0",
            "_model_name": "LayoutModel",
            "_view_count": null,
            "_view_module": "@jupyter-widgets/base",
            "_view_module_version": "1.2.0",
            "_view_name": "LayoutView",
            "align_content": null,
            "align_items": null,
            "align_self": null,
            "border": null,
            "bottom": null,
            "display": null,
            "flex": null,
            "flex_flow": null,
            "grid_area": null,
            "grid_auto_columns": null,
            "grid_auto_flow": null,
            "grid_auto_rows": null,
            "grid_column": null,
            "grid_gap": null,
            "grid_row": null,
            "grid_template_areas": null,
            "grid_template_columns": null,
            "grid_template_rows": null,
            "height": null,
            "justify_content": null,
            "justify_items": null,
            "left": null,
            "margin": null,
            "max_height": null,
            "max_width": null,
            "min_height": null,
            "min_width": null,
            "object_fit": null,
            "object_position": null,
            "order": null,
            "overflow": null,
            "overflow_x": null,
            "overflow_y": null,
            "padding": null,
            "right": null,
            "top": null,
            "visibility": null,
            "width": null
          }
        },
        "e4b2dab0d2be4b2196d5f6176df3c0d4": {
          "model_module": "@jupyter-widgets/base",
          "model_name": "LayoutModel",
          "model_module_version": "1.2.0",
          "state": {
            "_model_module": "@jupyter-widgets/base",
            "_model_module_version": "1.2.0",
            "_model_name": "LayoutModel",
            "_view_count": null,
            "_view_module": "@jupyter-widgets/base",
            "_view_module_version": "1.2.0",
            "_view_name": "LayoutView",
            "align_content": null,
            "align_items": null,
            "align_self": null,
            "border": null,
            "bottom": null,
            "display": null,
            "flex": null,
            "flex_flow": null,
            "grid_area": null,
            "grid_auto_columns": null,
            "grid_auto_flow": null,
            "grid_auto_rows": null,
            "grid_column": null,
            "grid_gap": null,
            "grid_row": null,
            "grid_template_areas": null,
            "grid_template_columns": null,
            "grid_template_rows": null,
            "height": null,
            "justify_content": null,
            "justify_items": null,
            "left": null,
            "margin": null,
            "max_height": null,
            "max_width": null,
            "min_height": null,
            "min_width": null,
            "object_fit": null,
            "object_position": null,
            "order": null,
            "overflow": null,
            "overflow_x": null,
            "overflow_y": null,
            "padding": null,
            "right": null,
            "top": null,
            "visibility": null,
            "width": null
          }
        },
        "dd70fa8b1b4f4b76b729655a642cdfd3": {
          "model_module": "@jupyter-widgets/controls",
          "model_name": "DescriptionStyleModel",
          "model_module_version": "1.5.0",
          "state": {
            "_model_module": "@jupyter-widgets/controls",
            "_model_module_version": "1.5.0",
            "_model_name": "DescriptionStyleModel",
            "_view_count": null,
            "_view_module": "@jupyter-widgets/base",
            "_view_module_version": "1.2.0",
            "_view_name": "StyleView",
            "description_width": ""
          }
        },
        "e89ec4761b9a42de9903323325ae9995": {
          "model_module": "@jupyter-widgets/base",
          "model_name": "LayoutModel",
          "model_module_version": "1.2.0",
          "state": {
            "_model_module": "@jupyter-widgets/base",
            "_model_module_version": "1.2.0",
            "_model_name": "LayoutModel",
            "_view_count": null,
            "_view_module": "@jupyter-widgets/base",
            "_view_module_version": "1.2.0",
            "_view_name": "LayoutView",
            "align_content": null,
            "align_items": null,
            "align_self": null,
            "border": null,
            "bottom": null,
            "display": null,
            "flex": null,
            "flex_flow": null,
            "grid_area": null,
            "grid_auto_columns": null,
            "grid_auto_flow": null,
            "grid_auto_rows": null,
            "grid_column": null,
            "grid_gap": null,
            "grid_row": null,
            "grid_template_areas": null,
            "grid_template_columns": null,
            "grid_template_rows": null,
            "height": null,
            "justify_content": null,
            "justify_items": null,
            "left": null,
            "margin": null,
            "max_height": null,
            "max_width": null,
            "min_height": null,
            "min_width": null,
            "object_fit": null,
            "object_position": null,
            "order": null,
            "overflow": null,
            "overflow_x": null,
            "overflow_y": null,
            "padding": null,
            "right": null,
            "top": null,
            "visibility": null,
            "width": null
          }
        },
        "b3dbd0e1eeab4ebc9b9946c94b133366": {
          "model_module": "@jupyter-widgets/controls",
          "model_name": "ProgressStyleModel",
          "model_module_version": "1.5.0",
          "state": {
            "_model_module": "@jupyter-widgets/controls",
            "_model_module_version": "1.5.0",
            "_model_name": "ProgressStyleModel",
            "_view_count": null,
            "_view_module": "@jupyter-widgets/base",
            "_view_module_version": "1.2.0",
            "_view_name": "StyleView",
            "bar_color": null,
            "description_width": ""
          }
        },
        "57a3f51541094699ab332347ec96d431": {
          "model_module": "@jupyter-widgets/base",
          "model_name": "LayoutModel",
          "model_module_version": "1.2.0",
          "state": {
            "_model_module": "@jupyter-widgets/base",
            "_model_module_version": "1.2.0",
            "_model_name": "LayoutModel",
            "_view_count": null,
            "_view_module": "@jupyter-widgets/base",
            "_view_module_version": "1.2.0",
            "_view_name": "LayoutView",
            "align_content": null,
            "align_items": null,
            "align_self": null,
            "border": null,
            "bottom": null,
            "display": null,
            "flex": null,
            "flex_flow": null,
            "grid_area": null,
            "grid_auto_columns": null,
            "grid_auto_flow": null,
            "grid_auto_rows": null,
            "grid_column": null,
            "grid_gap": null,
            "grid_row": null,
            "grid_template_areas": null,
            "grid_template_columns": null,
            "grid_template_rows": null,
            "height": null,
            "justify_content": null,
            "justify_items": null,
            "left": null,
            "margin": null,
            "max_height": null,
            "max_width": null,
            "min_height": null,
            "min_width": null,
            "object_fit": null,
            "object_position": null,
            "order": null,
            "overflow": null,
            "overflow_x": null,
            "overflow_y": null,
            "padding": null,
            "right": null,
            "top": null,
            "visibility": null,
            "width": null
          }
        },
        "33554e1b17a04c96a37db1591f784ae7": {
          "model_module": "@jupyter-widgets/controls",
          "model_name": "DescriptionStyleModel",
          "model_module_version": "1.5.0",
          "state": {
            "_model_module": "@jupyter-widgets/controls",
            "_model_module_version": "1.5.0",
            "_model_name": "DescriptionStyleModel",
            "_view_count": null,
            "_view_module": "@jupyter-widgets/base",
            "_view_module_version": "1.2.0",
            "_view_name": "StyleView",
            "description_width": ""
          }
        },
        "128ad37a43ec4bc192216759cb23ce41": {
          "model_module": "@jupyter-widgets/controls",
          "model_name": "HBoxModel",
          "model_module_version": "1.5.0",
          "state": {
            "_dom_classes": [],
            "_model_module": "@jupyter-widgets/controls",
            "_model_module_version": "1.5.0",
            "_model_name": "HBoxModel",
            "_view_count": null,
            "_view_module": "@jupyter-widgets/controls",
            "_view_module_version": "1.5.0",
            "_view_name": "HBoxView",
            "box_style": "",
            "children": [
              "IPY_MODEL_4111eeb3ed8c463bb3ac9ff4cadf5f9d",
              "IPY_MODEL_8f878eea8eae4fd9b41f91f6ae488786",
              "IPY_MODEL_a4b830474154458a94a094026a0fec97"
            ],
            "layout": "IPY_MODEL_5387d7f02b4441189af3bfab293ca71f"
          }
        },
        "4111eeb3ed8c463bb3ac9ff4cadf5f9d": {
          "model_module": "@jupyter-widgets/controls",
          "model_name": "HTMLModel",
          "model_module_version": "1.5.0",
          "state": {
            "_dom_classes": [],
            "_model_module": "@jupyter-widgets/controls",
            "_model_module_version": "1.5.0",
            "_model_name": "HTMLModel",
            "_view_count": null,
            "_view_module": "@jupyter-widgets/controls",
            "_view_module_version": "1.5.0",
            "_view_name": "HTMLView",
            "description": "",
            "description_tooltip": null,
            "layout": "IPY_MODEL_166d3c8315da43ae944b458a76a1e92d",
            "placeholder": "​",
            "style": "IPY_MODEL_02863654ae49429bbacec1a8baf304cf",
            "value": "vocab.txt: 100%"
          }
        },
        "8f878eea8eae4fd9b41f91f6ae488786": {
          "model_module": "@jupyter-widgets/controls",
          "model_name": "FloatProgressModel",
          "model_module_version": "1.5.0",
          "state": {
            "_dom_classes": [],
            "_model_module": "@jupyter-widgets/controls",
            "_model_module_version": "1.5.0",
            "_model_name": "FloatProgressModel",
            "_view_count": null,
            "_view_module": "@jupyter-widgets/controls",
            "_view_module_version": "1.5.0",
            "_view_name": "ProgressView",
            "bar_style": "success",
            "description": "",
            "description_tooltip": null,
            "layout": "IPY_MODEL_458ae7d07d0549c0b524c8c25bf1a702",
            "max": 995526,
            "min": 0,
            "orientation": "horizontal",
            "style": "IPY_MODEL_331f298460d146c8b5c4b028a9ce250d",
            "value": 995526
          }
        },
        "a4b830474154458a94a094026a0fec97": {
          "model_module": "@jupyter-widgets/controls",
          "model_name": "HTMLModel",
          "model_module_version": "1.5.0",
          "state": {
            "_dom_classes": [],
            "_model_module": "@jupyter-widgets/controls",
            "_model_module_version": "1.5.0",
            "_model_name": "HTMLModel",
            "_view_count": null,
            "_view_module": "@jupyter-widgets/controls",
            "_view_module_version": "1.5.0",
            "_view_name": "HTMLView",
            "description": "",
            "description_tooltip": null,
            "layout": "IPY_MODEL_4d706a2a451544d895be68e18691d439",
            "placeholder": "​",
            "style": "IPY_MODEL_c22127d7ccc84b279e2b9a12c44c6f56",
            "value": " 996k/996k [00:00&lt;00:00, 11.8MB/s]"
          }
        },
        "5387d7f02b4441189af3bfab293ca71f": {
          "model_module": "@jupyter-widgets/base",
          "model_name": "LayoutModel",
          "model_module_version": "1.2.0",
          "state": {
            "_model_module": "@jupyter-widgets/base",
            "_model_module_version": "1.2.0",
            "_model_name": "LayoutModel",
            "_view_count": null,
            "_view_module": "@jupyter-widgets/base",
            "_view_module_version": "1.2.0",
            "_view_name": "LayoutView",
            "align_content": null,
            "align_items": null,
            "align_self": null,
            "border": null,
            "bottom": null,
            "display": null,
            "flex": null,
            "flex_flow": null,
            "grid_area": null,
            "grid_auto_columns": null,
            "grid_auto_flow": null,
            "grid_auto_rows": null,
            "grid_column": null,
            "grid_gap": null,
            "grid_row": null,
            "grid_template_areas": null,
            "grid_template_columns": null,
            "grid_template_rows": null,
            "height": null,
            "justify_content": null,
            "justify_items": null,
            "left": null,
            "margin": null,
            "max_height": null,
            "max_width": null,
            "min_height": null,
            "min_width": null,
            "object_fit": null,
            "object_position": null,
            "order": null,
            "overflow": null,
            "overflow_x": null,
            "overflow_y": null,
            "padding": null,
            "right": null,
            "top": null,
            "visibility": null,
            "width": null
          }
        },
        "166d3c8315da43ae944b458a76a1e92d": {
          "model_module": "@jupyter-widgets/base",
          "model_name": "LayoutModel",
          "model_module_version": "1.2.0",
          "state": {
            "_model_module": "@jupyter-widgets/base",
            "_model_module_version": "1.2.0",
            "_model_name": "LayoutModel",
            "_view_count": null,
            "_view_module": "@jupyter-widgets/base",
            "_view_module_version": "1.2.0",
            "_view_name": "LayoutView",
            "align_content": null,
            "align_items": null,
            "align_self": null,
            "border": null,
            "bottom": null,
            "display": null,
            "flex": null,
            "flex_flow": null,
            "grid_area": null,
            "grid_auto_columns": null,
            "grid_auto_flow": null,
            "grid_auto_rows": null,
            "grid_column": null,
            "grid_gap": null,
            "grid_row": null,
            "grid_template_areas": null,
            "grid_template_columns": null,
            "grid_template_rows": null,
            "height": null,
            "justify_content": null,
            "justify_items": null,
            "left": null,
            "margin": null,
            "max_height": null,
            "max_width": null,
            "min_height": null,
            "min_width": null,
            "object_fit": null,
            "object_position": null,
            "order": null,
            "overflow": null,
            "overflow_x": null,
            "overflow_y": null,
            "padding": null,
            "right": null,
            "top": null,
            "visibility": null,
            "width": null
          }
        },
        "02863654ae49429bbacec1a8baf304cf": {
          "model_module": "@jupyter-widgets/controls",
          "model_name": "DescriptionStyleModel",
          "model_module_version": "1.5.0",
          "state": {
            "_model_module": "@jupyter-widgets/controls",
            "_model_module_version": "1.5.0",
            "_model_name": "DescriptionStyleModel",
            "_view_count": null,
            "_view_module": "@jupyter-widgets/base",
            "_view_module_version": "1.2.0",
            "_view_name": "StyleView",
            "description_width": ""
          }
        },
        "458ae7d07d0549c0b524c8c25bf1a702": {
          "model_module": "@jupyter-widgets/base",
          "model_name": "LayoutModel",
          "model_module_version": "1.2.0",
          "state": {
            "_model_module": "@jupyter-widgets/base",
            "_model_module_version": "1.2.0",
            "_model_name": "LayoutModel",
            "_view_count": null,
            "_view_module": "@jupyter-widgets/base",
            "_view_module_version": "1.2.0",
            "_view_name": "LayoutView",
            "align_content": null,
            "align_items": null,
            "align_self": null,
            "border": null,
            "bottom": null,
            "display": null,
            "flex": null,
            "flex_flow": null,
            "grid_area": null,
            "grid_auto_columns": null,
            "grid_auto_flow": null,
            "grid_auto_rows": null,
            "grid_column": null,
            "grid_gap": null,
            "grid_row": null,
            "grid_template_areas": null,
            "grid_template_columns": null,
            "grid_template_rows": null,
            "height": null,
            "justify_content": null,
            "justify_items": null,
            "left": null,
            "margin": null,
            "max_height": null,
            "max_width": null,
            "min_height": null,
            "min_width": null,
            "object_fit": null,
            "object_position": null,
            "order": null,
            "overflow": null,
            "overflow_x": null,
            "overflow_y": null,
            "padding": null,
            "right": null,
            "top": null,
            "visibility": null,
            "width": null
          }
        },
        "331f298460d146c8b5c4b028a9ce250d": {
          "model_module": "@jupyter-widgets/controls",
          "model_name": "ProgressStyleModel",
          "model_module_version": "1.5.0",
          "state": {
            "_model_module": "@jupyter-widgets/controls",
            "_model_module_version": "1.5.0",
            "_model_name": "ProgressStyleModel",
            "_view_count": null,
            "_view_module": "@jupyter-widgets/base",
            "_view_module_version": "1.2.0",
            "_view_name": "StyleView",
            "bar_color": null,
            "description_width": ""
          }
        },
        "4d706a2a451544d895be68e18691d439": {
          "model_module": "@jupyter-widgets/base",
          "model_name": "LayoutModel",
          "model_module_version": "1.2.0",
          "state": {
            "_model_module": "@jupyter-widgets/base",
            "_model_module_version": "1.2.0",
            "_model_name": "LayoutModel",
            "_view_count": null,
            "_view_module": "@jupyter-widgets/base",
            "_view_module_version": "1.2.0",
            "_view_name": "LayoutView",
            "align_content": null,
            "align_items": null,
            "align_self": null,
            "border": null,
            "bottom": null,
            "display": null,
            "flex": null,
            "flex_flow": null,
            "grid_area": null,
            "grid_auto_columns": null,
            "grid_auto_flow": null,
            "grid_auto_rows": null,
            "grid_column": null,
            "grid_gap": null,
            "grid_row": null,
            "grid_template_areas": null,
            "grid_template_columns": null,
            "grid_template_rows": null,
            "height": null,
            "justify_content": null,
            "justify_items": null,
            "left": null,
            "margin": null,
            "max_height": null,
            "max_width": null,
            "min_height": null,
            "min_width": null,
            "object_fit": null,
            "object_position": null,
            "order": null,
            "overflow": null,
            "overflow_x": null,
            "overflow_y": null,
            "padding": null,
            "right": null,
            "top": null,
            "visibility": null,
            "width": null
          }
        },
        "c22127d7ccc84b279e2b9a12c44c6f56": {
          "model_module": "@jupyter-widgets/controls",
          "model_name": "DescriptionStyleModel",
          "model_module_version": "1.5.0",
          "state": {
            "_model_module": "@jupyter-widgets/controls",
            "_model_module_version": "1.5.0",
            "_model_name": "DescriptionStyleModel",
            "_view_count": null,
            "_view_module": "@jupyter-widgets/base",
            "_view_module_version": "1.2.0",
            "_view_name": "StyleView",
            "description_width": ""
          }
        },
        "4cb6ab76041142d3b46e782636a101a2": {
          "model_module": "@jupyter-widgets/controls",
          "model_name": "HBoxModel",
          "model_module_version": "1.5.0",
          "state": {
            "_dom_classes": [],
            "_model_module": "@jupyter-widgets/controls",
            "_model_module_version": "1.5.0",
            "_model_name": "HBoxModel",
            "_view_count": null,
            "_view_module": "@jupyter-widgets/controls",
            "_view_module_version": "1.5.0",
            "_view_name": "HBoxView",
            "box_style": "",
            "children": [
              "IPY_MODEL_b319b40a9c754a80bb60049e4e869673",
              "IPY_MODEL_c01385fd0e384908ad23ac4e2a2c780a",
              "IPY_MODEL_bb9929d6bb0c4662a9bd8a2b5bd1deea"
            ],
            "layout": "IPY_MODEL_6e2e92580d78476bbf3dc6d0ece9752c"
          }
        },
        "b319b40a9c754a80bb60049e4e869673": {
          "model_module": "@jupyter-widgets/controls",
          "model_name": "HTMLModel",
          "model_module_version": "1.5.0",
          "state": {
            "_dom_classes": [],
            "_model_module": "@jupyter-widgets/controls",
            "_model_module_version": "1.5.0",
            "_model_name": "HTMLModel",
            "_view_count": null,
            "_view_module": "@jupyter-widgets/controls",
            "_view_module_version": "1.5.0",
            "_view_name": "HTMLView",
            "description": "",
            "description_tooltip": null,
            "layout": "IPY_MODEL_e443db0682ed4985a1167a771df4a4be",
            "placeholder": "​",
            "style": "IPY_MODEL_f3cbac1435fd4bad8a27688636a5b81b",
            "value": "tokenizer.json: 100%"
          }
        },
        "c01385fd0e384908ad23ac4e2a2c780a": {
          "model_module": "@jupyter-widgets/controls",
          "model_name": "FloatProgressModel",
          "model_module_version": "1.5.0",
          "state": {
            "_dom_classes": [],
            "_model_module": "@jupyter-widgets/controls",
            "_model_module_version": "1.5.0",
            "_model_name": "FloatProgressModel",
            "_view_count": null,
            "_view_module": "@jupyter-widgets/controls",
            "_view_module_version": "1.5.0",
            "_view_name": "ProgressView",
            "bar_style": "success",
            "description": "",
            "description_tooltip": null,
            "layout": "IPY_MODEL_abf6a0121b7541509adcb0f7448ec296",
            "max": 1961828,
            "min": 0,
            "orientation": "horizontal",
            "style": "IPY_MODEL_1d37723d8a124c5a93d2fe4fea6a3244",
            "value": 1961828
          }
        },
        "bb9929d6bb0c4662a9bd8a2b5bd1deea": {
          "model_module": "@jupyter-widgets/controls",
          "model_name": "HTMLModel",
          "model_module_version": "1.5.0",
          "state": {
            "_dom_classes": [],
            "_model_module": "@jupyter-widgets/controls",
            "_model_module_version": "1.5.0",
            "_model_name": "HTMLModel",
            "_view_count": null,
            "_view_module": "@jupyter-widgets/controls",
            "_view_module_version": "1.5.0",
            "_view_name": "HTMLView",
            "description": "",
            "description_tooltip": null,
            "layout": "IPY_MODEL_9cf7411985a342b585b63ec757e94670",
            "placeholder": "​",
            "style": "IPY_MODEL_6fe0af77f6684f20bb086cacffd6d9a1",
            "value": " 1.96M/1.96M [00:00&lt;00:00, 21.6MB/s]"
          }
        },
        "6e2e92580d78476bbf3dc6d0ece9752c": {
          "model_module": "@jupyter-widgets/base",
          "model_name": "LayoutModel",
          "model_module_version": "1.2.0",
          "state": {
            "_model_module": "@jupyter-widgets/base",
            "_model_module_version": "1.2.0",
            "_model_name": "LayoutModel",
            "_view_count": null,
            "_view_module": "@jupyter-widgets/base",
            "_view_module_version": "1.2.0",
            "_view_name": "LayoutView",
            "align_content": null,
            "align_items": null,
            "align_self": null,
            "border": null,
            "bottom": null,
            "display": null,
            "flex": null,
            "flex_flow": null,
            "grid_area": null,
            "grid_auto_columns": null,
            "grid_auto_flow": null,
            "grid_auto_rows": null,
            "grid_column": null,
            "grid_gap": null,
            "grid_row": null,
            "grid_template_areas": null,
            "grid_template_columns": null,
            "grid_template_rows": null,
            "height": null,
            "justify_content": null,
            "justify_items": null,
            "left": null,
            "margin": null,
            "max_height": null,
            "max_width": null,
            "min_height": null,
            "min_width": null,
            "object_fit": null,
            "object_position": null,
            "order": null,
            "overflow": null,
            "overflow_x": null,
            "overflow_y": null,
            "padding": null,
            "right": null,
            "top": null,
            "visibility": null,
            "width": null
          }
        },
        "e443db0682ed4985a1167a771df4a4be": {
          "model_module": "@jupyter-widgets/base",
          "model_name": "LayoutModel",
          "model_module_version": "1.2.0",
          "state": {
            "_model_module": "@jupyter-widgets/base",
            "_model_module_version": "1.2.0",
            "_model_name": "LayoutModel",
            "_view_count": null,
            "_view_module": "@jupyter-widgets/base",
            "_view_module_version": "1.2.0",
            "_view_name": "LayoutView",
            "align_content": null,
            "align_items": null,
            "align_self": null,
            "border": null,
            "bottom": null,
            "display": null,
            "flex": null,
            "flex_flow": null,
            "grid_area": null,
            "grid_auto_columns": null,
            "grid_auto_flow": null,
            "grid_auto_rows": null,
            "grid_column": null,
            "grid_gap": null,
            "grid_row": null,
            "grid_template_areas": null,
            "grid_template_columns": null,
            "grid_template_rows": null,
            "height": null,
            "justify_content": null,
            "justify_items": null,
            "left": null,
            "margin": null,
            "max_height": null,
            "max_width": null,
            "min_height": null,
            "min_width": null,
            "object_fit": null,
            "object_position": null,
            "order": null,
            "overflow": null,
            "overflow_x": null,
            "overflow_y": null,
            "padding": null,
            "right": null,
            "top": null,
            "visibility": null,
            "width": null
          }
        },
        "f3cbac1435fd4bad8a27688636a5b81b": {
          "model_module": "@jupyter-widgets/controls",
          "model_name": "DescriptionStyleModel",
          "model_module_version": "1.5.0",
          "state": {
            "_model_module": "@jupyter-widgets/controls",
            "_model_module_version": "1.5.0",
            "_model_name": "DescriptionStyleModel",
            "_view_count": null,
            "_view_module": "@jupyter-widgets/base",
            "_view_module_version": "1.2.0",
            "_view_name": "StyleView",
            "description_width": ""
          }
        },
        "abf6a0121b7541509adcb0f7448ec296": {
          "model_module": "@jupyter-widgets/base",
          "model_name": "LayoutModel",
          "model_module_version": "1.2.0",
          "state": {
            "_model_module": "@jupyter-widgets/base",
            "_model_module_version": "1.2.0",
            "_model_name": "LayoutModel",
            "_view_count": null,
            "_view_module": "@jupyter-widgets/base",
            "_view_module_version": "1.2.0",
            "_view_name": "LayoutView",
            "align_content": null,
            "align_items": null,
            "align_self": null,
            "border": null,
            "bottom": null,
            "display": null,
            "flex": null,
            "flex_flow": null,
            "grid_area": null,
            "grid_auto_columns": null,
            "grid_auto_flow": null,
            "grid_auto_rows": null,
            "grid_column": null,
            "grid_gap": null,
            "grid_row": null,
            "grid_template_areas": null,
            "grid_template_columns": null,
            "grid_template_rows": null,
            "height": null,
            "justify_content": null,
            "justify_items": null,
            "left": null,
            "margin": null,
            "max_height": null,
            "max_width": null,
            "min_height": null,
            "min_width": null,
            "object_fit": null,
            "object_position": null,
            "order": null,
            "overflow": null,
            "overflow_x": null,
            "overflow_y": null,
            "padding": null,
            "right": null,
            "top": null,
            "visibility": null,
            "width": null
          }
        },
        "1d37723d8a124c5a93d2fe4fea6a3244": {
          "model_module": "@jupyter-widgets/controls",
          "model_name": "ProgressStyleModel",
          "model_module_version": "1.5.0",
          "state": {
            "_model_module": "@jupyter-widgets/controls",
            "_model_module_version": "1.5.0",
            "_model_name": "ProgressStyleModel",
            "_view_count": null,
            "_view_module": "@jupyter-widgets/base",
            "_view_module_version": "1.2.0",
            "_view_name": "StyleView",
            "bar_color": null,
            "description_width": ""
          }
        },
        "9cf7411985a342b585b63ec757e94670": {
          "model_module": "@jupyter-widgets/base",
          "model_name": "LayoutModel",
          "model_module_version": "1.2.0",
          "state": {
            "_model_module": "@jupyter-widgets/base",
            "_model_module_version": "1.2.0",
            "_model_name": "LayoutModel",
            "_view_count": null,
            "_view_module": "@jupyter-widgets/base",
            "_view_module_version": "1.2.0",
            "_view_name": "LayoutView",
            "align_content": null,
            "align_items": null,
            "align_self": null,
            "border": null,
            "bottom": null,
            "display": null,
            "flex": null,
            "flex_flow": null,
            "grid_area": null,
            "grid_auto_columns": null,
            "grid_auto_flow": null,
            "grid_auto_rows": null,
            "grid_column": null,
            "grid_gap": null,
            "grid_row": null,
            "grid_template_areas": null,
            "grid_template_columns": null,
            "grid_template_rows": null,
            "height": null,
            "justify_content": null,
            "justify_items": null,
            "left": null,
            "margin": null,
            "max_height": null,
            "max_width": null,
            "min_height": null,
            "min_width": null,
            "object_fit": null,
            "object_position": null,
            "order": null,
            "overflow": null,
            "overflow_x": null,
            "overflow_y": null,
            "padding": null,
            "right": null,
            "top": null,
            "visibility": null,
            "width": null
          }
        },
        "6fe0af77f6684f20bb086cacffd6d9a1": {
          "model_module": "@jupyter-widgets/controls",
          "model_name": "DescriptionStyleModel",
          "model_module_version": "1.5.0",
          "state": {
            "_model_module": "@jupyter-widgets/controls",
            "_model_module_version": "1.5.0",
            "_model_name": "DescriptionStyleModel",
            "_view_count": null,
            "_view_module": "@jupyter-widgets/base",
            "_view_module_version": "1.2.0",
            "_view_name": "StyleView",
            "description_width": ""
          }
        }
      }
    }
  },
  "cells": [
    {
      "cell_type": "code",
      "execution_count": null,
      "metadata": {
        "colab": {
          "base_uri": "https://localhost:8080/"
        },
        "id": "OOnnIcVHMOTx",
        "outputId": "eaec88f8-51c9-4f32-89f0-8fc8f057afbb"
      },
      "outputs": [
        {
          "output_type": "stream",
          "name": "stdout",
          "text": [
            "Mounted at /content/drive\n"
          ]
        }
      ],
      "source": [
        "from google.colab import drive\n",
        "drive.mount('/content/drive')"
      ]
    },
    {
      "cell_type": "code",
      "source": [
        "# Step 1: Install gdown\n",
        "!pip install -q gdown\n",
        "\n",
        "# Step 2: Download the RCB.zip file using its file ID\n",
        "!gdown \"https://drive.google.com/file/d/1IrrswV9bXz6jjz8SUEVfBY6ILRJ17-xy/view?usp=sharing\" --output RCB.zip\n"
      ],
      "metadata": {
        "colab": {
          "base_uri": "https://localhost:8080/"
        },
        "id": "1OAVHEbDVGVz",
        "outputId": "4490b688-04e0-4d8b-9fe2-8fccdcf2da2c"
      },
      "execution_count": null,
      "outputs": [
        {
          "output_type": "stream",
          "name": "stdout",
          "text": [
            "/usr/local/lib/python3.11/dist-packages/gdown/parse_url.py:48: UserWarning: You specified a Google Drive link that is not the correct link to download a file. You might want to try `--fuzzy` option or the following url: https://drive.google.com/uc?id=1IrrswV9bXz6jjz8SUEVfBY6ILRJ17-xy\n",
            "  warnings.warn(\n",
            "Downloading...\n",
            "From: https://drive.google.com/file/d/1IrrswV9bXz6jjz8SUEVfBY6ILRJ17-xy/view?usp=sharing\n",
            "To: /content/RCB.zip\n",
            "94.6kB [00:00, 33.3MB/s]\n"
          ]
        }
      ]
    },
    {
      "cell_type": "code",
      "source": [
        "# Step 1: Install gdown if not already installed\n",
        "!pip install -q gdown\n",
        "\n",
        "# Step 2: Download the RCB.zip file correctly\n",
        "!gdown --id 1IrrswV9bXz6jjz8SUEVfBY6ILRJ17-xy\n",
        "\n",
        "# Step 3: Unzip it properly\n",
        "import zipfile\n",
        "\n",
        "with zipfile.ZipFile(\"RCB.zip\", 'r') as zip_ref:\n",
        "    zip_ref.extractall(\"rcb_dataset\")  # Extract to \"rcb_dataset\" folder\n",
        "\n",
        "print(\"✅ Extraction completed!\")\n",
        "\n"
      ],
      "metadata": {
        "colab": {
          "base_uri": "https://localhost:8080/"
        },
        "id": "VhzHob5djYKt",
        "outputId": "4ca9677a-8b48-46d9-876a-8add7e815093"
      },
      "execution_count": null,
      "outputs": [
        {
          "output_type": "stream",
          "name": "stdout",
          "text": [
            "/usr/local/lib/python3.11/dist-packages/gdown/__main__.py:140: FutureWarning: Option `--id` was deprecated in version 4.3.1 and will be removed in 5.0. You don't need to pass it anymore to use a file ID.\n",
            "  warnings.warn(\n",
            "Downloading...\n",
            "From (original): https://drive.google.com/uc?id=1IrrswV9bXz6jjz8SUEVfBY6ILRJ17-xy\n",
            "From (redirected): https://drive.google.com/uc?id=1IrrswV9bXz6jjz8SUEVfBY6ILRJ17-xy&confirm=t&uuid=f87cdc77-6a58-490e-92e4-2d5ec8311546\n",
            "To: /content/RCB.zip\n",
            "100% 266M/266M [00:04<00:00, 63.3MB/s]\n",
            "✅ Extraction completed!\n"
          ]
        }
      ]
    },
    {
      "cell_type": "code",
      "source": [
        "# Step 3: Extract the ZIP contents\n",
        "import zipfile\n",
        "\n",
        "with zipfile.ZipFile(\"RCB.zip\", 'r') as zip_ref:\n",
        "    zip_ref.extractall(\"rcb_dataset\")\n"
      ],
      "metadata": {
        "id": "fwGNx1qoYhIg"
      },
      "execution_count": null,
      "outputs": []
    },
    {
      "cell_type": "code",
      "source": [
        "import os\n",
        "\n",
        "# Check top-level folder after extraction\n",
        "print(\"Top-level folders:\", os.listdir(\"rcb_dataset\"))\n",
        "\n",
        "# Check subfolders inside 'RCB'\n",
        "print(\"Subfolders in 'RRCCBB':\", os.listdir(\"rcb_dataset/RCB\"))\n"
      ],
      "metadata": {
        "colab": {
          "base_uri": "https://localhost:8080/"
        },
        "id": "zrXqljEIYld2",
        "outputId": "26c11748-73c0-43cb-f3f3-efe72bf938b3"
      },
      "execution_count": null,
      "outputs": [
        {
          "output_type": "stream",
          "name": "stdout",
          "text": [
            "Top-level folders: ['RCB', '__MACOSX']\n",
            "Subfolders in 'RRCCBB': ['non_offensive', 'offensive', '.DS_Store']\n"
          ]
        }
      ]
    },
    {
      "cell_type": "code",
      "source": [
        "!pip install pytesseract\n",
        "import pytesseract\n",
        "from PIL import Image\n",
        "\n",
        "# OCR with Kannada + English\n",
        "def extract_text(image_path):\n",
        "    image = Image.open(image_path).convert(\"RGB\")\n",
        "    return pytesseract.image_to_string(image, lang='kan+eng')\n",
        "\n"
      ],
      "metadata": {
        "colab": {
          "base_uri": "https://localhost:8080/"
        },
        "id": "b66gazASZqMl",
        "outputId": "09b38501-8171-4383-faff-66c82fa595cf"
      },
      "execution_count": null,
      "outputs": [
        {
          "output_type": "stream",
          "name": "stdout",
          "text": [
            "Collecting pytesseract\n",
            "  Downloading pytesseract-0.3.13-py3-none-any.whl.metadata (11 kB)\n",
            "Requirement already satisfied: packaging>=21.3 in /usr/local/lib/python3.11/dist-packages (from pytesseract) (24.2)\n",
            "Requirement already satisfied: Pillow>=8.0.0 in /usr/local/lib/python3.11/dist-packages (from pytesseract) (11.2.1)\n",
            "Downloading pytesseract-0.3.13-py3-none-any.whl (14 kB)\n",
            "Installing collected packages: pytesseract\n",
            "Successfully installed pytesseract-0.3.13\n"
          ]
        }
      ]
    },
    {
      "cell_type": "code",
      "source": [
        "def clean_text(text):\n",
        "    # KEEP Kannada characters, English alphabets, numbers, symbols\n",
        "    cleaned = re.sub(r'[^A-Za-z0-9ಅ-ಹ಼ಽಾ-ೌೃ-ೄ೦-೯?!.,#*@ ]+', '', text)\n",
        "    cleaned = re.sub(r'\\s+', ' ', cleaned).strip()\n",
        "    return cleaned"
      ],
      "metadata": {
        "id": "KvC5bpcEZ1KI"
      },
      "execution_count": null,
      "outputs": []
    },
    {
      "cell_type": "code",
      "source": [
        "from transformers import AutoTokenizer\n",
        "\n",
        "# Load a multilingual BERT tokenizer\n",
        "tokenizer = AutoTokenizer.from_pretrained(\"bert-base-multilingual-cased\")\n",
        "\n",
        "def tokenize_text(text, max_length=64):\n",
        "    return tokenizer(\n",
        "        text,\n",
        "        padding=\"max_length\",\n",
        "        truncation=True,\n",
        "        max_length=max_length,\n",
        "        return_tensors=\"pt\"\n",
        "    )\n",
        "\n"
      ],
      "metadata": {
        "id": "h7t6lE35Z8rq",
        "colab": {
          "base_uri": "https://localhost:8080/",
          "height": 263,
          "referenced_widgets": [
            "e7a65a1bdf784896bcb7227bb0a78879",
            "e47c73f28c744600ba873a583fad1956",
            "16f99fd2b99c4d4e8dac00ee966041ad",
            "2c699f8ba9524aba87e8a3b476d788d4",
            "ccde7f99abe64a8abc1d272c879bf672",
            "7d44d38137e14c13bbe57304298c56b3",
            "4c404d5b0c7747c58ed502df05008a0c",
            "487395b420e54017938d8d81639594cb",
            "ec1bfacbf8784304bdbdf9c8cc56d838",
            "be519611106a4bfda3129ace8a7ba1ac",
            "8893f863c6b44751a42426215184d068",
            "cc17c22d2ec84f7e89d72586d6ddf436",
            "1332152cf0b64b78a4944add5efc8926",
            "498529356ca249ac96206a4df37d0afa",
            "4734f9dba6ac423b88a0bf3f4b02f19e",
            "31921724de3840fe8b6678111e95cb4a",
            "e4b2dab0d2be4b2196d5f6176df3c0d4",
            "dd70fa8b1b4f4b76b729655a642cdfd3",
            "e89ec4761b9a42de9903323325ae9995",
            "b3dbd0e1eeab4ebc9b9946c94b133366",
            "57a3f51541094699ab332347ec96d431",
            "33554e1b17a04c96a37db1591f784ae7",
            "128ad37a43ec4bc192216759cb23ce41",
            "4111eeb3ed8c463bb3ac9ff4cadf5f9d",
            "8f878eea8eae4fd9b41f91f6ae488786",
            "a4b830474154458a94a094026a0fec97",
            "5387d7f02b4441189af3bfab293ca71f",
            "166d3c8315da43ae944b458a76a1e92d",
            "02863654ae49429bbacec1a8baf304cf",
            "458ae7d07d0549c0b524c8c25bf1a702",
            "331f298460d146c8b5c4b028a9ce250d",
            "4d706a2a451544d895be68e18691d439",
            "c22127d7ccc84b279e2b9a12c44c6f56",
            "4cb6ab76041142d3b46e782636a101a2",
            "b319b40a9c754a80bb60049e4e869673",
            "c01385fd0e384908ad23ac4e2a2c780a",
            "bb9929d6bb0c4662a9bd8a2b5bd1deea",
            "6e2e92580d78476bbf3dc6d0ece9752c",
            "e443db0682ed4985a1167a771df4a4be",
            "f3cbac1435fd4bad8a27688636a5b81b",
            "abf6a0121b7541509adcb0f7448ec296",
            "1d37723d8a124c5a93d2fe4fea6a3244",
            "9cf7411985a342b585b63ec757e94670",
            "6fe0af77f6684f20bb086cacffd6d9a1"
          ]
        },
        "outputId": "b8fc5efd-50ac-4e5c-b5c0-ea8664046846"
      },
      "execution_count": null,
      "outputs": [
        {
          "output_type": "stream",
          "name": "stderr",
          "text": [
            "/usr/local/lib/python3.11/dist-packages/huggingface_hub/utils/_auth.py:94: UserWarning: \n",
            "The secret `HF_TOKEN` does not exist in your Colab secrets.\n",
            "To authenticate with the Hugging Face Hub, create a token in your settings tab (https://huggingface.co/settings/tokens), set it as secret in your Google Colab and restart your session.\n",
            "You will be able to reuse this secret in all of your notebooks.\n",
            "Please note that authentication is recommended but still optional to access public models or datasets.\n",
            "  warnings.warn(\n"
          ]
        },
        {
          "output_type": "display_data",
          "data": {
            "text/plain": [
              "tokenizer_config.json:   0%|          | 0.00/49.0 [00:00<?, ?B/s]"
            ],
            "application/vnd.jupyter.widget-view+json": {
              "version_major": 2,
              "version_minor": 0,
              "model_id": "e7a65a1bdf784896bcb7227bb0a78879"
            }
          },
          "metadata": {}
        },
        {
          "output_type": "display_data",
          "data": {
            "text/plain": [
              "config.json:   0%|          | 0.00/625 [00:00<?, ?B/s]"
            ],
            "application/vnd.jupyter.widget-view+json": {
              "version_major": 2,
              "version_minor": 0,
              "model_id": "cc17c22d2ec84f7e89d72586d6ddf436"
            }
          },
          "metadata": {}
        },
        {
          "output_type": "display_data",
          "data": {
            "text/plain": [
              "vocab.txt:   0%|          | 0.00/996k [00:00<?, ?B/s]"
            ],
            "application/vnd.jupyter.widget-view+json": {
              "version_major": 2,
              "version_minor": 0,
              "model_id": "128ad37a43ec4bc192216759cb23ce41"
            }
          },
          "metadata": {}
        },
        {
          "output_type": "display_data",
          "data": {
            "text/plain": [
              "tokenizer.json:   0%|          | 0.00/1.96M [00:00<?, ?B/s]"
            ],
            "application/vnd.jupyter.widget-view+json": {
              "version_major": 2,
              "version_minor": 0,
              "model_id": "4cb6ab76041142d3b46e782636a101a2"
            }
          },
          "metadata": {}
        }
      ]
    },
    {
      "cell_type": "code",
      "source": [
        "# Full test using one meme\n",
        "image_path = \"/content/rcb_dataset/RCB/non_offensive/1b9.png\"  # Replace with actual file\n",
        "import re\n",
        "\n",
        "def extract_and_tokenize(image_path):\n",
        "    image = Image.open(image_path).convert(\"RGB\")\n",
        "    raw_text = pytesseract.image_to_string(image, lang='kan+eng')\n",
        "    cleaned = clean_text(raw_text)\n",
        "    tokens = tokenize_text(cleaned)\n",
        "    return {\n",
        "        \"raw_text\": raw_text,\n",
        "        \"cleaned_text\": cleaned,\n",
        "        \"input_ids\": tokens['input_ids'],\n",
        "        \"attention_mask\": tokens['attention_mask']\n",
        "    }\n",
        "\n",
        "output = extract_and_tokenize(image_path)\n",
        "print(\"Raw:\", output[\"raw_text\"])\n",
        "print(\"Cleaned:\", output[\"cleaned_text\"])\n",
        "print(\"Input IDs shape:\", output[\"input_ids\"].shape)\n"
      ],
      "metadata": {
        "colab": {
          "base_uri": "https://localhost:8080/"
        },
        "id": "ADPPaboMZ_z6",
        "outputId": "8baea2a8-38cc-4393-dab1-f067dca244ee"
      },
      "execution_count": null,
      "outputs": [
        {
          "output_type": "stream",
          "name": "stdout",
          "text": [
            "Raw: RCB after winning yesterday's match-\n",
            "\n",
            "Ab bas 2 match jitne hai Virat aur, Maxwell bhi\n",
            "minimum, phir hum playoffs | form mein aagye hain toh\n",
            "ke Ze ell karjayenge Piao Se Decow ara areyS\n",
            "\n",
            " \n",
            "\n",
            "Finals mein Virat bhai ~\n",
            "finally, century maar, BeIFakelS (shi ; mg\n",
            "dur hum final jeet jayenge. ,EesSald en) Netty\n",
            "\f\n",
            "Cleaned: RCB after winning yesterdays matchAb bas 2 match jitne hai Virat aur, Maxwell bhiminimum, phir hum playoffs form mein aagye hain tohke Ze ell karjayenge Piao Se Decow ara areyS Finals mein Virat bhai finally, century maar, BeIFakelS shi mgdur hum final jeet jayenge. ,EesSald en Netty\n",
            "Input IDs shape: torch.Size([1, 64])\n"
          ]
        }
      ]
    },
    {
      "cell_type": "code",
      "source": [
        "import os\n",
        "import torch\n",
        "import pytesseract\n",
        "from PIL import Image\n",
        "from transformers import AutoTokenizer\n",
        "import re\n",
        "\n",
        "# Setup\n",
        "base_path = \"/content/rcb_dataset/RCB\"\n",
        "label_map = {\"offensive\": 1, \"non_offensive\": 0}\n",
        "\n",
        "# Load tokenizer\n",
        "tokenizer = AutoTokenizer.from_pretrained(\"bert-base-multilingual-cased\")\n",
        "\n",
        "# Clean text\n",
        "def clean_text(text):\n",
        "    text = re.sub(r'[^A-Za-z0-9ಅ-ಹ಼ಽಾ-ೌೃ-ೄ೦-೯?!., ]+', '', text)\n",
        "    text = re.sub(r'\\s+', ' ', text).strip()\n",
        "    return text\n",
        "\n",
        "# Tokenize with attention mask\n",
        "def tokenize_text(text, max_length=64):\n",
        "    return tokenizer(\n",
        "        text,\n",
        "        padding=\"max_length\",\n",
        "        truncation=True,\n",
        "        max_length=max_length,\n",
        "        return_tensors=\"pt\"\n",
        "    )\n",
        "\n",
        "# Collect all processed samples\n",
        "processed_samples = []\n",
        "\n",
        "for label_name, label_value in label_map.items():\n",
        "    folder = os.path.join(base_path, label_name)\n",
        "    for filename in os.listdir(folder):\n",
        "        if filename.lower().endswith(('.jpg', '.jpeg', '.png')):\n",
        "            image_path = os.path.join(folder, filename)\n",
        "\n",
        "            try:\n",
        "                # Step 1: OCR\n",
        "                image = Image.open(image_path).convert(\"RGB\")\n",
        "                raw_text = pytesseract.image_to_string(image, lang='kan+eng')\n",
        "\n",
        "                # Step 2: Clean\n",
        "                cleaned = clean_text(raw_text)\n",
        "\n",
        "                # Step 3: Tokenize\n",
        "                tokenized = tokenize_text(cleaned)\n",
        "\n",
        "                sample = {\n",
        "                    \"image_path\": image_path,\n",
        "                    \"raw_text\": raw_text,\n",
        "                    \"cleaned_text\": cleaned,\n",
        "                    \"input_ids\": tokenized[\"input_ids\"].squeeze(0),             # Tensor [64]\n",
        "                    \"attention_mask\": tokenized[\"attention_mask\"].squeeze(0),   # Tensor [64]\n",
        "                    \"label\": label_value\n",
        "                }\n",
        "\n",
        "                processed_samples.append(sample)\n",
        "\n",
        "            except Exception as e:\n",
        "                print(f\"Error processing {image_path}: {e}\")\n"
      ],
      "metadata": {
        "id": "tDM6yww35G0J"
      },
      "execution_count": null,
      "outputs": []
    },
    {
      "cell_type": "code",
      "source": [
        "torch.save(processed_samples, \"text_features.pt\")\n"
      ],
      "metadata": {
        "id": "663Aunnf9HnJ"
      },
      "execution_count": null,
      "outputs": []
    },
    {
      "cell_type": "code",
      "source": [
        "from google.colab import files\n",
        "files.download(\"text_features.pt\")\n"
      ],
      "metadata": {
        "colab": {
          "base_uri": "https://localhost:8080/",
          "height": 16
        },
        "id": "kJeWs4-RKAik",
        "outputId": "5301910a-79be-4ff8-f623-4e2ca305cb6f"
      },
      "execution_count": null,
      "outputs": [
        {
          "output_type": "display_data",
          "data": {
            "text/plain": [
              "<IPython.core.display.Javascript object>"
            ],
            "application/javascript": [
              "\n",
              "    async function download(id, filename, size) {\n",
              "      if (!google.colab.kernel.accessAllowed) {\n",
              "        return;\n",
              "      }\n",
              "      const div = document.createElement('div');\n",
              "      const label = document.createElement('label');\n",
              "      label.textContent = `Downloading \"${filename}\": `;\n",
              "      div.appendChild(label);\n",
              "      const progress = document.createElement('progress');\n",
              "      progress.max = size;\n",
              "      div.appendChild(progress);\n",
              "      document.body.appendChild(div);\n",
              "\n",
              "      const buffers = [];\n",
              "      let downloaded = 0;\n",
              "\n",
              "      const channel = await google.colab.kernel.comms.open(id);\n",
              "      // Send a message to notify the kernel that we're ready.\n",
              "      channel.send({})\n",
              "\n",
              "      for await (const message of channel.messages) {\n",
              "        // Send a message to notify the kernel that we're ready.\n",
              "        channel.send({})\n",
              "        if (message.buffers) {\n",
              "          for (const buffer of message.buffers) {\n",
              "            buffers.push(buffer);\n",
              "            downloaded += buffer.byteLength;\n",
              "            progress.value = downloaded;\n",
              "          }\n",
              "        }\n",
              "      }\n",
              "      const blob = new Blob(buffers, {type: 'application/binary'});\n",
              "      const a = document.createElement('a');\n",
              "      a.href = window.URL.createObjectURL(blob);\n",
              "      a.download = filename;\n",
              "      div.appendChild(a);\n",
              "      a.click();\n",
              "      div.remove();\n",
              "    }\n",
              "  "
            ]
          },
          "metadata": {}
        },
        {
          "output_type": "display_data",
          "data": {
            "text/plain": [
              "<IPython.core.display.Javascript object>"
            ],
            "application/javascript": [
              "download(\"download_acc3537e-ebd6-43ac-89fd-93dafe4e0847\", \"text_features.pt\", 1380926)"
            ]
          },
          "metadata": {}
        }
      ]
    },
    {
      "cell_type": "code",
      "source": [
        "import torch\n",
        "\n",
        "# Step 1: Load the data first\n",
        "text_data = torch.load(\"text_features.pt\")  # <- Load the real object, not string\n",
        "\n",
        "# Step 2: Then count samples\n",
        "print(f\"✅ Total samples in dataset: {len(text_data)}\")\n"
      ],
      "metadata": {
        "colab": {
          "base_uri": "https://localhost:8080/"
        },
        "id": "C6wynY8In4sV",
        "outputId": "ddf198e0-0ce3-401a-85b7-dd3a8c9e6762"
      },
      "execution_count": null,
      "outputs": [
        {
          "output_type": "stream",
          "name": "stdout",
          "text": [
            "✅ Total samples in dataset: 758\n"
          ]
        }
      ]
    },
    {
      "cell_type": "code",
      "source": [
        "for i, sample in enumerate(processed_samples[:3]):\n",
        "    print(f\"\\n📌 Sample {i+1}\")\n",
        "    print(\"-\" * 50)\n",
        "    print(\"🖼️ Image Path     :\", sample[\"image_path\"])\n",
        "    print(\"📝 Raw Text       :\", sample[\"raw_text\"])\n",
        "    print(\"🧹 Cleaned Text   :\", sample[\"cleaned_text\"])\n",
        "    print(\"🆔 Input IDs      :\", sample[\"input_ids\"].tolist())\n",
        "    print(\"🎯 Attention Mask :\", sample[\"attention_mask\"].tolist())\n",
        "    print(\"🏷️ Label          :\", \"Offensive\" if sample[\"label\"] == 1 else \"Non-Offensive\")\n"
      ],
      "metadata": {
        "colab": {
          "base_uri": "https://localhost:8080/"
        },
        "id": "BCSWkacE9LOW",
        "outputId": "b9461156-01a0-4c9e-c340-3d2fc2a0f519"
      },
      "execution_count": null,
      "outputs": [
        {
          "output_type": "stream",
          "name": "stdout",
          "text": [
            "\n",
            "📌 Sample 1\n",
            "--------------------------------------------------\n",
            "🖼️ Image Path     : /content/rcb_dataset/RCB/offensive/IMG_2927.PNG\n",
            "📝 Raw Text       : NU Ere taays\n",
            "ie\n",
            "\n",
            "ea 4\n",
            "\n",
            "ea\n",
            "\n",
            "ON THE RCB WEBSITE & APP\n",
            "\n",
            "    \n",
            " \n",
            "\n",
            "TLS RO TILL et em lel) se\n",
            "YL LY OLS ALO) LO LP\n",
            "Ve CEC Mey a amore hee OL ETL\n",
            "\n",
            "eT aR Rove AL Merl ae otle aie leks\n",
            "\n",
            "LY eee\n",
            "\f\n",
            "🧹 Cleaned Text   : NU Ere taaysieea 4eaON THE RCB WEBSITE APP TLS RO TILL et em lel seYL LY OLS ALO LO LPVe CEC Mey a amore hee OL ETLeT aR Rove AL Merl ae otle aie leksLY eee\n",
            "🆔 Input IDs      : [101, 151, 12022, 10915, 10112, 11057, 13998, 17408, 11233, 69287, 10113, 30118, 17443, 40089, 11274, 88839, 44802, 29833, 30909, 11127, 157, 66934, 155, 11403, 157, 38850, 11369, 10131, 10266, 10141, 10161, 10126, 14703, 11369, 149, 14703, 19768, 10731, 47271, 11403, 149, 11403, 17521, 11779, 10112, 31078, 10858, 42110, 169, 23219, 100415, 19768, 74568, 11369, 10112, 11090, 169, 11273, 155, 21175, 47271, 10734, 10161, 102]\n",
            "🎯 Attention Mask : [1, 1, 1, 1, 1, 1, 1, 1, 1, 1, 1, 1, 1, 1, 1, 1, 1, 1, 1, 1, 1, 1, 1, 1, 1, 1, 1, 1, 1, 1, 1, 1, 1, 1, 1, 1, 1, 1, 1, 1, 1, 1, 1, 1, 1, 1, 1, 1, 1, 1, 1, 1, 1, 1, 1, 1, 1, 1, 1, 1, 1, 1, 1, 1]\n",
            "🏷️ Label          : Offensive\n",
            "\n",
            "📌 Sample 2\n",
            "--------------------------------------------------\n",
            "🖼️ Image Path     : /content/rcb_dataset/RCB/offensive/IMG-20250406-WA0044.jpg\n",
            "📝 Raw Text       :  \n",
            "\n",
            "aInaaee Seiten\n",
            "\f\n",
            "🧹 Cleaned Text   : aInaaee Seiten\n",
            "🆔 Input IDs      : [101, 169, 11281, 10219, 14193, 10112, 30757, 102, 0, 0, 0, 0, 0, 0, 0, 0, 0, 0, 0, 0, 0, 0, 0, 0, 0, 0, 0, 0, 0, 0, 0, 0, 0, 0, 0, 0, 0, 0, 0, 0, 0, 0, 0, 0, 0, 0, 0, 0, 0, 0, 0, 0, 0, 0, 0, 0, 0, 0, 0, 0, 0, 0, 0, 0]\n",
            "🎯 Attention Mask : [1, 1, 1, 1, 1, 1, 1, 1, 0, 0, 0, 0, 0, 0, 0, 0, 0, 0, 0, 0, 0, 0, 0, 0, 0, 0, 0, 0, 0, 0, 0, 0, 0, 0, 0, 0, 0, 0, 0, 0, 0, 0, 0, 0, 0, 0, 0, 0, 0, 0, 0, 0, 0, 0, 0, 0, 0, 0, 0, 0, 0, 0, 0, 0]\n",
            "🏷️ Label          : Offensive\n",
            "\n",
            "📌 Sample 3\n",
            "--------------------------------------------------\n",
            "🖼️ Image Path     : /content/rcb_dataset/RCB/offensive/WhatsApp Image 2025-03-25 at 23.04.10.jpeg\n",
            "📝 Raw Text       :  \n",
            "\f\n",
            "🧹 Cleaned Text   : \n",
            "🆔 Input IDs      : [101, 102, 0, 0, 0, 0, 0, 0, 0, 0, 0, 0, 0, 0, 0, 0, 0, 0, 0, 0, 0, 0, 0, 0, 0, 0, 0, 0, 0, 0, 0, 0, 0, 0, 0, 0, 0, 0, 0, 0, 0, 0, 0, 0, 0, 0, 0, 0, 0, 0, 0, 0, 0, 0, 0, 0, 0, 0, 0, 0, 0, 0, 0, 0]\n",
            "🎯 Attention Mask : [1, 1, 0, 0, 0, 0, 0, 0, 0, 0, 0, 0, 0, 0, 0, 0, 0, 0, 0, 0, 0, 0, 0, 0, 0, 0, 0, 0, 0, 0, 0, 0, 0, 0, 0, 0, 0, 0, 0, 0, 0, 0, 0, 0, 0, 0, 0, 0, 0, 0, 0, 0, 0, 0, 0, 0, 0, 0, 0, 0, 0, 0, 0, 0]\n",
            "🏷️ Label          : Offensive\n"
          ]
        }
      ]
    },
    {
      "cell_type": "markdown",
      "source": [
        " LSTM Text Encoder Module"
      ],
      "metadata": {
        "id": "j_BLP3NbHx12"
      }
    },
    {
      "cell_type": "code",
      "source": [
        "import torch\n",
        "\n",
        "# Load your preprocessed text data (.pt file from earlier step)\n",
        "text_data = torch.load(\"text_features.pt\")\n",
        "\n"
      ],
      "metadata": {
        "id": "LOXPkNrUH5Bk"
      },
      "execution_count": null,
      "outputs": []
    },
    {
      "cell_type": "code",
      "source": [
        "import torch.nn as nn\n",
        "\n",
        "class TextEncoderLSTM(nn.Module):\n",
        "    def __init__(self, vocab_size, embed_dim=300, hidden_dim=256):\n",
        "        super(TextEncoderLSTM, self).__init__()\n",
        "        self.embedding = nn.Embedding(vocab_size, embed_dim, padding_idx=0)\n",
        "        self.lstm = nn.LSTM(embed_dim, hidden_dim, batch_first=True)\n",
        "\n",
        "    def forward(self, input_ids):\n",
        "        x = self.embedding(input_ids)         # [batch, seq_len, embed_dim]\n",
        "        _, (hidden, _) = self.lstm(x)         # hidden: [1, batch, hidden_dim]\n",
        "        return hidden.squeeze(0)              # [batch, hidden_dim]\n"
      ],
      "metadata": {
        "id": "LxPqNtLMIsl6"
      },
      "execution_count": null,
      "outputs": []
    },
    {
      "cell_type": "code",
      "source": [
        "from torch.utils.data import Dataset, DataLoader\n",
        "\n",
        "class TextOnlyDataset(Dataset):\n",
        "    def __init__(self, data):\n",
        "        self.data = data\n",
        "\n",
        "    def __getitem__(self, idx):\n",
        "        return {\n",
        "            \"input_ids\": self.data[idx][\"input_ids\"],\n",
        "            \"label\": torch.tensor(self.data[idx][\"label\"], dtype=torch.float32)\n",
        "        }\n",
        "\n",
        "    def __len__(self):\n",
        "        return len(self.data)\n",
        "\n",
        "# Create dataset\n",
        "text_dataset = TextOnlyDataset(text_data)\n",
        "\n",
        "# Create DataLoader\n",
        "text_loader = DataLoader(text_dataset, batch_size=16, shuffle=True)\n"
      ],
      "metadata": {
        "id": "0ugwgqtDIvPi"
      },
      "execution_count": null,
      "outputs": []
    },
    {
      "cell_type": "code",
      "source": [
        "device = torch.device(\"cuda\" if torch.cuda.is_available() else \"cpu\")\n",
        "\n",
        "# Replace this with your actual tokenizer's vocab size\n",
        "vocab_size = 119547  # for bert-base-multilingual-cased\n",
        "text_encoder = TextEncoderLSTM(vocab_size=vocab_size).to(device)\n"
      ],
      "metadata": {
        "id": "8sdMxtN6IyoX"
      },
      "execution_count": null,
      "outputs": []
    },
    {
      "cell_type": "code",
      "source": [
        "for batch in text_loader:\n",
        "    input_ids = batch[\"input_ids\"].to(device)         # [batch_size, seq_len]\n",
        "    labels = batch[\"label\"].unsqueeze(1).to(device)   # [batch_size, 1]\n",
        "\n",
        "    # Forward pass\n",
        "    text_embedding = text_encoder(input_ids)          # [batch_size, hidden_dim]\n",
        "    print(\"Text Embedding Shape:\", text_embedding.shape)  # e.g., [16, 256]\n",
        "    break\n"
      ],
      "metadata": {
        "colab": {
          "base_uri": "https://localhost:8080/"
        },
        "id": "hhjCHCj0I2s-",
        "outputId": "8a7cf5ec-ad07-405f-f0cf-fcf36c5d3406"
      },
      "execution_count": null,
      "outputs": [
        {
          "output_type": "stream",
          "name": "stdout",
          "text": [
            "Text Embedding Shape: torch.Size([16, 256])\n"
          ]
        }
      ]
    },
    {
      "cell_type": "code",
      "source": [
        "# Collect outputs\n",
        "all_text_embeddings = []\n",
        "\n",
        "for batch in text_loader:\n",
        "    input_ids = batch[\"input_ids\"].to(device)\n",
        "    text_embedding = text_encoder(input_ids)\n",
        "    all_text_embeddings.append(text_embedding.cpu())  # detach & move to CPU\n",
        "\n",
        "# Stack into one tensor\n",
        "all_text_embeddings = torch.cat(all_text_embeddings, dim=0)\n",
        "torch.save(all_text_embeddings, \"text_embeddings.pt\")\n"
      ],
      "metadata": {
        "id": "7VmWVWVhJbw5"
      },
      "execution_count": null,
      "outputs": []
    },
    {
      "cell_type": "code",
      "source": [
        "text_embeddings = torch.load(\"text_embeddings.pt\")\n"
      ],
      "metadata": {
        "id": "WOXBuSYoJd1L"
      },
      "execution_count": null,
      "outputs": []
    },
    {
      "cell_type": "code",
      "source": [
        "# Load your text encoder and move to eval mode\n",
        "text_encoder.eval()\n",
        "text_embeddings = []\n",
        "\n",
        "with torch.no_grad():\n",
        "    for batch in text_loader:\n",
        "        input_ids = batch[\"input_ids\"].to(device)\n",
        "        text_embed = text_encoder(input_ids)  # shape: [batch_size, 256]\n",
        "        text_embeddings.append(text_embed.cpu())  # move to CPU\n",
        "\n",
        "# Stack into single tensor\n",
        "all_text_embeddings = torch.cat(text_embeddings, dim=0)  # shape: [num_samples, 256]\n",
        "\n",
        "# Save to file\n",
        "torch.save(all_text_embeddings, \"text_lstm_embeddings.pt\")\n"
      ],
      "metadata": {
        "id": "_u0cmOoDKFl_"
      },
      "execution_count": null,
      "outputs": []
    },
    {
      "cell_type": "code",
      "source": [
        "from google.colab import files\n",
        "files.download(\"text_lstm_embeddings.pt\")\n"
      ],
      "metadata": {
        "colab": {
          "base_uri": "https://localhost:8080/",
          "height": 16
        },
        "id": "ho_dD5PpKKD7",
        "outputId": "26d0277f-4789-48f1-fc90-c635b198c4db"
      },
      "execution_count": null,
      "outputs": [
        {
          "output_type": "display_data",
          "data": {
            "text/plain": [
              "<IPython.core.display.Javascript object>"
            ],
            "application/javascript": [
              "\n",
              "    async function download(id, filename, size) {\n",
              "      if (!google.colab.kernel.accessAllowed) {\n",
              "        return;\n",
              "      }\n",
              "      const div = document.createElement('div');\n",
              "      const label = document.createElement('label');\n",
              "      label.textContent = `Downloading \"${filename}\": `;\n",
              "      div.appendChild(label);\n",
              "      const progress = document.createElement('progress');\n",
              "      progress.max = size;\n",
              "      div.appendChild(progress);\n",
              "      document.body.appendChild(div);\n",
              "\n",
              "      const buffers = [];\n",
              "      let downloaded = 0;\n",
              "\n",
              "      const channel = await google.colab.kernel.comms.open(id);\n",
              "      // Send a message to notify the kernel that we're ready.\n",
              "      channel.send({})\n",
              "\n",
              "      for await (const message of channel.messages) {\n",
              "        // Send a message to notify the kernel that we're ready.\n",
              "        channel.send({})\n",
              "        if (message.buffers) {\n",
              "          for (const buffer of message.buffers) {\n",
              "            buffers.push(buffer);\n",
              "            downloaded += buffer.byteLength;\n",
              "            progress.value = downloaded;\n",
              "          }\n",
              "        }\n",
              "      }\n",
              "      const blob = new Blob(buffers, {type: 'application/binary'});\n",
              "      const a = document.createElement('a');\n",
              "      a.href = window.URL.createObjectURL(blob);\n",
              "      a.download = filename;\n",
              "      div.appendChild(a);\n",
              "      a.click();\n",
              "      div.remove();\n",
              "    }\n",
              "  "
            ]
          },
          "metadata": {}
        },
        {
          "output_type": "display_data",
          "data": {
            "text/plain": [
              "<IPython.core.display.Javascript object>"
            ],
            "application/javascript": [
              "download(\"download_882f5d7b-03cd-4150-baf6-031d07e2f65d\", \"text_lstm_embeddings.pt\", 777437)"
            ]
          },
          "metadata": {}
        }
      ]
    },
    {
      "cell_type": "code",
      "source": [
        "for i in range(3):\n",
        "    print(f\"📌 Sample {i+1} - Text Embedding Vector (256-dim):\\n\")\n",
        "    print(all_text_embeddings[i].numpy().round(3))  # round for readability\n",
        "    print(\"\\n\" + \"-\"*80 + \"\\n\")\n",
        "    +\n"
      ],
      "metadata": {
        "colab": {
          "base_uri": "https://localhost:8080/"
        },
        "id": "cc1b9PLXKNNL",
        "outputId": "51d28086-5b1a-42e4-fdea-f56ee21f1c4d"
      },
      "execution_count": null,
      "outputs": [
        {
          "output_type": "stream",
          "name": "stdout",
          "text": [
            "📌 Sample 1 - Text Embedding Vector (256-dim):\n",
            "\n",
            "[ 0.033  0.007 -0.016 -0.013  0.024 -0.009  0.011  0.     0.007 -0.024\n",
            " -0.014  0.026 -0.039 -0.033 -0.02  -0.051 -0.032 -0.019 -0.003 -0.024\n",
            "  0.026  0.012 -0.041  0.016 -0.038  0.017 -0.011 -0.031 -0.025  0.002\n",
            "  0.028 -0.008 -0.031 -0.039 -0.001  0.03  -0.028  0.006 -0.029  0.006\n",
            " -0.022  0.004 -0.039 -0.013 -0.035  0.034  0.002  0.025  0.002 -0.02\n",
            " -0.004  0.012 -0.013  0.056  0.017  0.035 -0.069 -0.     0.011 -0.016\n",
            " -0.056  0.004 -0.02   0.033 -0.029 -0.009 -0.027 -0.048 -0.032  0.037\n",
            " -0.012 -0.046  0.018 -0.001  0.04   0.039 -0.062 -0.014 -0.007 -0.012\n",
            "  0.046  0.041 -0.    -0.011 -0.022 -0.019  0.     0.021 -0.005 -0.005\n",
            "  0.013  0.041  0.014  0.019 -0.021  0.002 -0.     0.024 -0.036  0.066\n",
            " -0.009 -0.014  0.009  0.018  0.02   0.015 -0.019  0.031 -0.004 -0.054\n",
            "  0.027 -0.016  0.013  0.013 -0.046 -0.033  0.001  0.029 -0.005  0.018\n",
            " -0.038  0.038  0.002 -0.034  0.01   0.026  0.032 -0.04   0.04  -0.005\n",
            "  0.02   0.023  0.012  0.025  0.072  0.008 -0.019 -0.023 -0.045 -0.007\n",
            "  0.003 -0.033 -0.018 -0.004  0.047 -0.005 -0.032 -0.026  0.017 -0.05\n",
            " -0.02  -0.04   0.022 -0.001  0.016  0.003 -0.006  0.003  0.     0.006\n",
            " -0.026 -0.022  0.046  0.019  0.026 -0.043 -0.013 -0.035 -0.008 -0.016\n",
            " -0.041 -0.005  0.015  0.012  0.02   0.021 -0.008 -0.042 -0.006 -0.03\n",
            "  0.002  0.013 -0.026 -0.013  0.02  -0.003  0.008  0.022 -0.016  0.044\n",
            "  0.003  0.022  0.035 -0.004  0.003 -0.016  0.007  0.014 -0.01  -0.013\n",
            " -0.003 -0.029 -0.032  0.027  0.011 -0.041 -0.021 -0.022  0.034 -0.023\n",
            " -0.01  -0.01   0.001  0.     0.015 -0.017 -0.005  0.014  0.056  0.041\n",
            " -0.022 -0.013 -0.047 -0.018  0.043  0.018 -0.016  0.002 -0.043 -0.033\n",
            " -0.011  0.031 -0.009 -0.01  -0.014  0.017 -0.006 -0.014  0.007 -0.022\n",
            " -0.041  0.018  0.016  0.    -0.007  0.004  0.023  0.01  -0.006  0.045\n",
            " -0.001 -0.007 -0.021  0.026 -0.023  0.013]\n",
            "\n",
            "--------------------------------------------------------------------------------\n",
            "\n",
            "📌 Sample 2 - Text Embedding Vector (256-dim):\n",
            "\n",
            "[ 0.033  0.007 -0.016 -0.013  0.024 -0.009  0.011  0.     0.007 -0.024\n",
            " -0.014  0.026 -0.039 -0.033 -0.02  -0.051 -0.032 -0.019 -0.003 -0.024\n",
            "  0.026  0.012 -0.041  0.016 -0.038  0.017 -0.011 -0.031 -0.025  0.002\n",
            "  0.028 -0.008 -0.031 -0.039 -0.001  0.03  -0.028  0.006 -0.029  0.006\n",
            " -0.022  0.004 -0.039 -0.013 -0.035  0.034  0.002  0.025  0.002 -0.02\n",
            " -0.004  0.012 -0.013  0.056  0.017  0.035 -0.069 -0.     0.011 -0.016\n",
            " -0.056  0.004 -0.02   0.033 -0.029 -0.009 -0.027 -0.048 -0.032  0.037\n",
            " -0.012 -0.046  0.018 -0.001  0.04   0.039 -0.062 -0.014 -0.007 -0.012\n",
            "  0.046  0.041 -0.    -0.011 -0.022 -0.019  0.     0.021 -0.005 -0.005\n",
            "  0.013  0.041  0.014  0.019 -0.021  0.002 -0.     0.024 -0.036  0.066\n",
            " -0.009 -0.014  0.009  0.018  0.02   0.015 -0.019  0.031 -0.004 -0.054\n",
            "  0.027 -0.016  0.013  0.013 -0.046 -0.033  0.001  0.029 -0.005  0.018\n",
            " -0.038  0.038  0.002 -0.034  0.01   0.026  0.032 -0.04   0.04  -0.005\n",
            "  0.02   0.023  0.012  0.025  0.072  0.008 -0.019 -0.023 -0.045 -0.007\n",
            "  0.003 -0.033 -0.018 -0.004  0.047 -0.005 -0.032 -0.026  0.017 -0.05\n",
            " -0.02  -0.04   0.022 -0.001  0.016  0.003 -0.006  0.003  0.     0.006\n",
            " -0.026 -0.022  0.046  0.019  0.026 -0.043 -0.013 -0.035 -0.008 -0.016\n",
            " -0.041 -0.005  0.015  0.012  0.02   0.021 -0.008 -0.042 -0.006 -0.03\n",
            "  0.002  0.013 -0.026 -0.013  0.02  -0.003  0.008  0.022 -0.016  0.044\n",
            "  0.003  0.022  0.035 -0.004  0.003 -0.016  0.007  0.014 -0.01  -0.013\n",
            " -0.003 -0.029 -0.032  0.027  0.011 -0.041 -0.021 -0.022  0.034 -0.023\n",
            " -0.01  -0.01   0.001  0.     0.015 -0.017 -0.005  0.014  0.056  0.041\n",
            " -0.022 -0.013 -0.047 -0.018  0.043  0.018 -0.016  0.002 -0.043 -0.033\n",
            " -0.011  0.031 -0.009 -0.01  -0.014  0.017 -0.006 -0.014  0.007 -0.022\n",
            " -0.041  0.018  0.016  0.    -0.007  0.004  0.023  0.01  -0.006  0.045\n",
            " -0.001 -0.007 -0.021  0.026 -0.023  0.013]\n",
            "\n",
            "--------------------------------------------------------------------------------\n",
            "\n",
            "📌 Sample 3 - Text Embedding Vector (256-dim):\n",
            "\n",
            "[ 0.033  0.007 -0.016 -0.013  0.024 -0.009  0.011  0.     0.007 -0.024\n",
            " -0.014  0.026 -0.039 -0.033 -0.02  -0.051 -0.032 -0.019 -0.003 -0.024\n",
            "  0.026  0.012 -0.041  0.016 -0.038  0.017 -0.011 -0.031 -0.025  0.002\n",
            "  0.028 -0.008 -0.031 -0.039 -0.001  0.03  -0.028  0.006 -0.029  0.006\n",
            " -0.022  0.004 -0.039 -0.013 -0.035  0.034  0.002  0.025  0.002 -0.02\n",
            " -0.004  0.012 -0.013  0.056  0.017  0.035 -0.069 -0.     0.011 -0.016\n",
            " -0.056  0.004 -0.02   0.033 -0.029 -0.009 -0.027 -0.048 -0.032  0.037\n",
            " -0.012 -0.046  0.018 -0.001  0.04   0.039 -0.062 -0.014 -0.007 -0.012\n",
            "  0.046  0.041 -0.    -0.011 -0.022 -0.019  0.     0.021 -0.005 -0.005\n",
            "  0.013  0.041  0.014  0.019 -0.021  0.002 -0.     0.024 -0.036  0.066\n",
            " -0.009 -0.014  0.009  0.018  0.02   0.015 -0.019  0.031 -0.004 -0.054\n",
            "  0.027 -0.016  0.013  0.013 -0.046 -0.033  0.001  0.029 -0.005  0.018\n",
            " -0.038  0.038  0.002 -0.034  0.01   0.026  0.032 -0.04   0.04  -0.005\n",
            "  0.02   0.023  0.012  0.025  0.072  0.008 -0.019 -0.023 -0.045 -0.007\n",
            "  0.003 -0.033 -0.018 -0.004  0.047 -0.005 -0.032 -0.026  0.017 -0.05\n",
            " -0.02  -0.04   0.022 -0.001  0.016  0.003 -0.006  0.003  0.     0.006\n",
            " -0.026 -0.022  0.046  0.019  0.026 -0.043 -0.013 -0.035 -0.008 -0.016\n",
            " -0.041 -0.005  0.015  0.012  0.02   0.021 -0.008 -0.042 -0.006 -0.03\n",
            "  0.002  0.013 -0.026 -0.013  0.02  -0.003  0.008  0.022 -0.016  0.044\n",
            "  0.003  0.022  0.035 -0.004  0.003 -0.016  0.007  0.014 -0.01  -0.013\n",
            " -0.003 -0.029 -0.032  0.027  0.011 -0.041 -0.021 -0.022  0.034 -0.023\n",
            " -0.01  -0.01   0.001  0.     0.015 -0.017 -0.005  0.014  0.056  0.041\n",
            " -0.022 -0.013 -0.047 -0.018  0.043  0.018 -0.016  0.002 -0.043 -0.033\n",
            " -0.011  0.031 -0.009 -0.01  -0.014  0.017 -0.006 -0.014  0.007 -0.022\n",
            " -0.041  0.018  0.016  0.    -0.007  0.004  0.023  0.01  -0.006  0.045\n",
            " -0.001 -0.007 -0.021  0.026 -0.023  0.013]\n",
            "\n",
            "--------------------------------------------------------------------------------\n",
            "\n"
          ]
        }
      ]
    },
    {
      "cell_type": "code",
      "source": [
        "print(\"Total text samples:\", len(text_data))\n"
      ],
      "metadata": {
        "id": "0zIdOzDTKq0a",
        "outputId": "427ce8c9-2bab-4396-eaf7-a19ff12333b4",
        "colab": {
          "base_uri": "https://localhost:8080/"
        }
      },
      "execution_count": null,
      "outputs": [
        {
          "output_type": "stream",
          "name": "stdout",
          "text": [
            "Total text samples: 758\n"
          ]
        }
      ]
    },
    {
      "cell_type": "code",
      "source": [
        "text_embeddings = torch.load(\"text_lstm_embeddings.pt\")\n",
        "print(\"Total embeddings generated:\", text_embeddings.shape[0])\n"
      ],
      "metadata": {
        "id": "c4gLV4pzKvBl",
        "outputId": "271bcaea-03d3-417a-b010-b951e4ea7d71",
        "colab": {
          "base_uri": "https://localhost:8080/"
        }
      },
      "execution_count": null,
      "outputs": [
        {
          "output_type": "stream",
          "name": "stdout",
          "text": [
            "Total embeddings generated: 758\n"
          ]
        }
      ]
    },
    {
      "cell_type": "code",
      "source": [
        "from google.colab import drive\n",
        "drive.mount('/content/drive')"
      ],
      "metadata": {
        "id": "We7jILCOQlw8"
      },
      "execution_count": null,
      "outputs": []
    }
  ]
}